'''Find the second-largest element in a list.'''
def second_largest(nums):
   return sorted(nums)[-2]   
